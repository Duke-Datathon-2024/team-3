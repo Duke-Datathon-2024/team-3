{
  "nbformat": 4,
  "nbformat_minor": 0,
  "metadata": {
    "colab": {
      "provenance": []
    },
    "kernelspec": {
      "name": "python3",
      "display_name": "Python 3"
    },
    "language_info": {
      "name": "python"
    }
  },
  "cells": [
    {
      "cell_type": "code",
      "source": [
        "import matplotlib.pyplot as plt\n",
        "import pandas as pd\n",
        "import numpy as np\n",
        "%pip install tableone\n",
        "import tableone\n",
        "from patsy import dmatrices\n",
        "from statsmodels.stats.outliers_influence import variance_inflation_factor\n",
        "from sklearn.model_selection import train_test_split\n",
        "from sklearn.preprocessing import StandardScaler\n",
        "from sklearn.linear_model import LinearRegression\n",
        "from matplotlib import pyplot\n",
        "from sklearn.metrics import mean_squared_error, r2_score\n",
        "from datetime import datetime\n",
        "from google.colab import files\n",
        "from google.colab import auth\n",
        "auth.authenticate_user()\n",
        "print('Authenticated')\n",
        "import warnings\n",
        "# Suppress deprecation warnings\n",
        "warnings.filterwarnings('ignore', category=DeprecationWarning)\n",
        "\n",
        "%load_ext google.colab.data_table\n",
        "# change this to change the right project\n",
        "%env GOOGLE_CLOUD_PROJECT = dukedatathon2024"
      ],
      "metadata": {
        "colab": {
          "base_uri": "https://localhost:8080/"
        },
        "id": "_puvdGSCsO9W",
        "outputId": "f20c4430-6d47-4570-8b70-7828a3209634"
      },
      "execution_count": 1,
      "outputs": [
        {
          "output_type": "stream",
          "name": "stdout",
          "text": [
            "Collecting tableone\n",
            "  Using cached tableone-0.8.0-py3-none-any.whl (33 kB)\n",
            "Requirement already satisfied: jinja2 in /usr/local/lib/python3.10/dist-packages (from tableone) (3.1.3)\n",
            "Requirement already satisfied: numpy in /usr/local/lib/python3.10/dist-packages (from tableone) (1.25.2)\n",
            "Requirement already satisfied: openpyxl in /usr/local/lib/python3.10/dist-packages (from tableone) (3.1.2)\n",
            "Requirement already satisfied: pandas in /usr/local/lib/python3.10/dist-packages (from tableone) (2.0.3)\n",
            "Requirement already satisfied: scipy in /usr/local/lib/python3.10/dist-packages (from tableone) (1.11.4)\n",
            "Requirement already satisfied: statsmodels in /usr/local/lib/python3.10/dist-packages (from tableone) (0.14.1)\n",
            "Requirement already satisfied: tabulate in /usr/local/lib/python3.10/dist-packages (from tableone) (0.9.0)\n",
            "Requirement already satisfied: MarkupSafe>=2.0 in /usr/local/lib/python3.10/dist-packages (from jinja2->tableone) (2.1.5)\n",
            "Requirement already satisfied: et-xmlfile in /usr/local/lib/python3.10/dist-packages (from openpyxl->tableone) (1.1.0)\n",
            "Requirement already satisfied: python-dateutil>=2.8.2 in /usr/local/lib/python3.10/dist-packages (from pandas->tableone) (2.8.2)\n",
            "Requirement already satisfied: pytz>=2020.1 in /usr/local/lib/python3.10/dist-packages (from pandas->tableone) (2023.4)\n",
            "Requirement already satisfied: tzdata>=2022.1 in /usr/local/lib/python3.10/dist-packages (from pandas->tableone) (2024.1)\n",
            "Requirement already satisfied: patsy>=0.5.4 in /usr/local/lib/python3.10/dist-packages (from statsmodels->tableone) (0.5.6)\n",
            "Requirement already satisfied: packaging>=21.3 in /usr/local/lib/python3.10/dist-packages (from statsmodels->tableone) (24.0)\n",
            "Requirement already satisfied: six in /usr/local/lib/python3.10/dist-packages (from patsy>=0.5.4->statsmodels->tableone) (1.16.0)\n",
            "Installing collected packages: tableone\n",
            "Successfully installed tableone-0.8.0\n",
            "Authenticated\n",
            "env: GOOGLE_CLOUD_PROJECT=dukedatathon2024\n"
          ]
        }
      ]
    },
    {
      "cell_type": "code",
      "source": [
        "complete_df = pd.read_csv('complete_df.csv')"
      ],
      "metadata": {
        "id": "bVR7A8iVswsY"
      },
      "execution_count": 2,
      "outputs": []
    },
    {
      "cell_type": "code",
      "execution_count": 3,
      "metadata": {
        "id": "cuc8MkpvrkgD"
      },
      "outputs": [],
      "source": [
        "# Replace 'M' with 1 and 'F' with 0 in the 'gender' column\n",
        "complete_df['gender'] = complete_df['gender'].replace({'M': 1, 'F': 0})\n",
        "\n",
        "# Specify columns to convert to float\n",
        "X_cols = ['anchor_age', 'gender', 'anchor_year',\n",
        "       'sepsis3', 'procedure_freq',\n",
        "       'icu_stay_num', 'admission_num', 'in2first_days', 'first2out_days',\n",
        "       'in2last_days', 'last2out_days', 'first2last_days', 'death',\n",
        "       'initial_vasopressor_needed_within_24hr',\n",
        "       'initial_ventilation_within_6hr', 'initial_fio2_above_60_within_6hr',\n",
        "       'initial_sodium', 'initial_wbc', 'initial_creatinine', 'initial_ph',\n",
        "       'initial_lactate', 'initial_baseexcess', 'initial_glucose',\n",
        "       'initial_crp', 'off_vasopressors', 'last_fio2_above_60',\n",
        "       'off_ventilation', 'last_ph', 'last_lactate', 'last_baseexcess',\n",
        "       'last_hemoglobin', 'last_creatinine', 'last_sodium', 'last_glucose',\n",
        "       'last_wbc', 'last_crp', 'readiness']\n",
        "\n",
        "int_cols = ['anchor_age' ,'gender','anchor_year','procedure_freq','icu_stay_num','admission_num','in2first_days','first2out_days','in2last_days','last2out_days','first2last_days','death']\n",
        "bol_col = ['sepsis3','initial_vasopressor_needed_within_24hr','initial_ventilation_within_6hr','initial_fio2_above_60_within_6hr','off_vasopressors','last_fio2_above_60','off_ventilation','readiness']\n",
        "\n",
        "# Convert specified columns to float using astype()\n",
        "complete_df[int_cols] = complete_df[int_cols].astype(float)\n",
        "complete_df[bol_col] = complete_df[bol_col].astype(int)\n",
        "complete_df = complete_df.fillna(np.nan)\n"
      ]
    },
    {
      "cell_type": "code",
      "source": [
        "# check for variable correlation & feature selection\n",
        "\n",
        "#find design matrix for linear regression model using 'rating' as response variable\n",
        "y_vif, X_vif = dmatrices('los ~ anchor_age+gender+anchor_year+sepsis3+procedure_freq+icu_stay_num+admission_num+in2first_days+first2out_days+in2last_days+last2out_days+first2last_days+death+initial_vasopressor_needed_within_24hr+initial_ventilation_within_6hr+initial_fio2_above_60_within_6hr+initial_sodium+initial_wbc+initial_creatinine+initial_ph+initial_lactate+initial_baseexcess+initial_glucose+initial_crp+off_vasopressors+last_fio2_above_60+off_ventilation+last_ph+last_lactate+last_baseexcess+last_hemoglobin+last_creatinine+last_sodium+last_glucose+last_wbc+last_crp+readiness', data=complete_df, return_type='dataframe')\n",
        "\n",
        "#calculate VIF for each explanatory variable\n",
        "vif = pd.DataFrame()\n",
        "vif['VIF'] = [variance_inflation_factor(X_vif.values, i) for i in range(X_vif.shape[1])]\n",
        "vif['variable'] = X_vif.columns"
      ],
      "metadata": {
        "colab": {
          "base_uri": "https://localhost:8080/"
        },
        "id": "TjR8UF3Vrujv",
        "outputId": "a88f44f4-a6c3-4457-f2e4-f4eb5f564b80"
      },
      "execution_count": 4,
      "outputs": [
        {
          "output_type": "stream",
          "name": "stderr",
          "text": [
            "/usr/local/lib/python3.10/dist-packages/statsmodels/regression/linear_model.py:1782: RuntimeWarning: divide by zero encountered in scalar divide\n",
            "  return 1 - self.ssr/self.centered_tss\n",
            "/usr/local/lib/python3.10/dist-packages/statsmodels/stats/outliers_influence.py:198: RuntimeWarning: divide by zero encountered in scalar divide\n",
            "  vif = 1. / (1. - r_squared_i)\n",
            "/usr/local/lib/python3.10/dist-packages/statsmodels/regression/linear_model.py:1782: RuntimeWarning: invalid value encountered in scalar divide\n",
            "  return 1 - self.ssr/self.centered_tss\n"
          ]
        }
      ]
    },
    {
      "cell_type": "code",
      "source": [
        "# check for variable correlation & feature selection\n",
        "\n",
        "#find design matrix for linear regression model using 'rating' as response variable\n",
        "y_vif, X_vif = dmatrices('los ~ anchor_age+gender+anchor_year+sepsis3+procedure_freq+icu_stay_num+admission_num+in2first_days+first2out_days+in2last_days+last2out_days+first2last_days+death+initial_vasopressor_needed_within_24hr+initial_ventilation_within_6hr+initial_fio2_above_60_within_6hr+initial_sodium+initial_wbc+initial_creatinine+initial_ph+initial_lactate+initial_baseexcess+initial_glucose+initial_crp+off_vasopressors+last_fio2_above_60+off_ventilation+last_ph+last_lactate+last_baseexcess+last_hemoglobin+last_creatinine+last_sodium+last_glucose+last_wbc+last_crp+readiness', data=complete_df, return_type='dataframe')\n",
        "\n",
        "#calculate VIF for each explanatory variable\n",
        "vif = pd.DataFrame()\n",
        "vif['VIF'] = [variance_inflation_factor(X_vif.values, i) for i in range(X_vif.shape[1])]\n",
        "vif['variable'] = X_vif.columns"
      ],
      "metadata": {
        "colab": {
          "base_uri": "https://localhost:8080/"
        },
        "id": "942wtkhLrwe8",
        "outputId": "d23027d7-ba80-4374-b10f-9c4484acb03c"
      },
      "execution_count": 5,
      "outputs": [
        {
          "output_type": "stream",
          "name": "stderr",
          "text": [
            "/usr/local/lib/python3.10/dist-packages/statsmodels/regression/linear_model.py:1782: RuntimeWarning: divide by zero encountered in scalar divide\n",
            "  return 1 - self.ssr/self.centered_tss\n",
            "/usr/local/lib/python3.10/dist-packages/statsmodels/stats/outliers_influence.py:198: RuntimeWarning: divide by zero encountered in scalar divide\n",
            "  vif = 1. / (1. - r_squared_i)\n",
            "/usr/local/lib/python3.10/dist-packages/statsmodels/regression/linear_model.py:1782: RuntimeWarning: invalid value encountered in scalar divide\n",
            "  return 1 - self.ssr/self.centered_tss\n"
          ]
        }
      ]
    },
    {
      "cell_type": "code",
      "source": [
        "# Filter the DataFrame to get variable names with VIF less than 5\n",
        "selected_variables = vif.loc[vif['VIF'].fillna(0) < 5, 'variable'].tolist()\n",
        "selected_variables.remove('Intercept')"
      ],
      "metadata": {
        "id": "jCvDC-EgsGGY"
      },
      "execution_count": 6,
      "outputs": []
    },
    {
      "cell_type": "code",
      "source": [
        "# split train & test\n",
        "X = complete_df[selected_variables].fillna(0)\n",
        "y = complete_df['los']\n",
        "\n",
        "X_train, X_test, y_train, y_test = train_test_split(X, y, test_size=1/3, random_state=42)"
      ],
      "metadata": {
        "id": "n1JK_soUsJVG"
      },
      "execution_count": 7,
      "outputs": []
    },
    {
      "cell_type": "code",
      "source": [
        "# normalize & perform linear regression & print regression output\n",
        "\n",
        "scaler = StandardScaler()\n",
        "\n",
        "# Fit and transform the scaler on x_train\n",
        "X_train_scaled = scaler.fit_transform(X_train)\n",
        "\n",
        "# Transform X_test using the same scaler\n",
        "X_test_scaled = scaler.transform(X_test)\n",
        "\n",
        "# fit linear model\n",
        "model = LinearRegression()\n",
        "\n",
        "model.fit(X_train_scaled, y_train)\n",
        "y_pred = model.predict(X_test_scaled)\n",
        "\n",
        "# Evaluate the model\n",
        "mse = mean_squared_error(y_test, y_pred)\n",
        "r2 = r2_score(y_test, y_pred)\n",
        "\n",
        "# Print evaluation metrics\n",
        "print(f'''{'#'*20} Prediction Outcome on Test Data {'#'*20}''')\n",
        "print(f\"Mean Squared Error (MSE): {mse:.4f}\")\n",
        "print(f\"R-squared (R2): {r2:.4f}\")\n",
        "\n",
        "# summarize feature importance\n",
        "print(f'''{'#'*20} Feature Importance Summary {'#'*20}''')\n",
        "importance = model.coef_\n",
        "for i,v in enumerate(importance):\n",
        "  print(f'{X_train.columns[i]}: {v:.5f}')\n",
        "# plot feature importance\n",
        "pyplot.bar([x for x in range(len(importance))], importance)\n",
        "pyplot.xticks(np.arange(0, len(X_train.columns), step=1), labels = X_train.columns, rotation=90)\n",
        "pyplot.show()\n"
      ],
      "metadata": {
        "colab": {
          "base_uri": "https://localhost:8080/",
          "height": 910
        },
        "id": "Um21loicsLUb",
        "outputId": "1538da9d-747f-4da0-94ad-f350e8ebb6bd"
      },
      "execution_count": 8,
      "outputs": [
        {
          "output_type": "stream",
          "name": "stdout",
          "text": [
            "#################### Prediction Outcome on Test Data ####################\n",
            "Mean Squared Error (MSE): 75.4636\n",
            "R-squared (R2): 0.1787\n",
            "#################### Feature Importance Summary ####################\n",
            "sepsis3: 0.00000\n",
            "procedure_freq: -1.06534\n",
            "icu_stay_num: -0.02533\n",
            "admission_num: 0.94038\n",
            "first2last_days: 2.59312\n",
            "death: 0.54007\n",
            "initial_ventilation_within_6hr: 1.47623\n",
            "initial_creatinine: 1.06036\n",
            "off_vasopressors: 0.00000\n",
            "last_fio2_above_60: 0.44346\n",
            "off_ventilation: -0.00000\n",
            "last_sodium: 0.83740\n",
            "readiness: -0.79981\n"
          ]
        },
        {
          "output_type": "display_data",
          "data": {
            "text/plain": [
              "<Figure size 640x480 with 1 Axes>"
            ],
            "image/png": "[encoded data removed]"
          },
          "metadata": {}
        }
      ]
    }
  ]
}